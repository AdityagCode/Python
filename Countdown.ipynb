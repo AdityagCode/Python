{
 "cells": [
  {
   "cell_type": "markdown",
   "id": "d8884b63",
   "metadata": {},
   "source": [
    "### Arithmatic "
   ]
  },
  {
   "cell_type": "code",
   "execution_count": null,
   "id": "a957be79",
   "metadata": {},
   "outputs": [
    {
     "name": "stdout",
     "output_type": "stream",
     "text": [
      "Addition :  44\n"
     ]
    }
   ],
   "source": [
    "num1 = int(input(\"Enter num1: \"))\n",
    "num2 = int(input(\"Enter num2: \"))\n",
    "\n",
    "add = num1 + num2\n",
    "print(\"Addition : \", add)\n",
    "\n",
    "sub = num1 - num2\n",
    "print(\"Subtraction : \", sub)\n",
    "\n",
    "mult = num1 * num2\n",
    "print(\"Multiplication : \", mult)"
   ]
  },
  {
   "cell_type": "markdown",
   "id": "604643e4",
   "metadata": {},
   "source": [
    "### Remove duplicate string"
   ]
  },
  {
   "cell_type": "code",
   "execution_count": 4,
   "id": "cb123808",
   "metadata": {},
   "outputs": [
    {
     "name": "stdout",
     "output_type": "stream",
     "text": [
      "acd\n"
     ]
    }
   ],
   "source": [
    "str = input(\"Enter a string : \")\n",
    "un = \"\"\n",
    "\n",
    "for ch in str:\n",
    "    if ch not in un:\n",
    "        un += ch\n",
    "print(un)"
   ]
  },
  {
   "cell_type": "markdown",
   "id": "991fd29c",
   "metadata": {},
   "source": [
    "### WAP to using while loop that asks the user for a number and prints countdown from num to zero\n"
   ]
  },
  {
   "cell_type": "code",
   "execution_count": null,
   "id": "098fea46",
   "metadata": {},
   "outputs": [
    {
     "name": "stdout",
     "output_type": "stream",
     "text": [
      "Countdown : \n",
      "10\n",
      "9\n",
      "8\n",
      "7\n",
      "6\n",
      "5\n",
      "4\n",
      "3\n",
      "2\n",
      "1\n"
     ]
    }
   ],
   "source": [
    "num = int(input(\"Enter a number : \"))\n",
    "\n",
    "print(\"Countdown : \")\n",
    "while(num>=0):\n",
    "    print(num)\n",
    "    num-=1\n"
   ]
  }
 ],
 "metadata": {
  "kernelspec": {
   "display_name": "Python 3",
   "language": "python",
   "name": "python3"
  },
  "language_info": {
   "codemirror_mode": {
    "name": "ipython",
    "version": 3
   },
   "file_extension": ".py",
   "mimetype": "text/x-python",
   "name": "python",
   "nbconvert_exporter": "python",
   "pygments_lexer": "ipython3",
   "version": "3.13.5"
  }
 },
 "nbformat": 4,
 "nbformat_minor": 5
}
