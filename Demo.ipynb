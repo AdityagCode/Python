{
 "cells": [
  {
   "cell_type": "markdown",
   "id": "9441391e",
   "metadata": {},
   "source": [
    "# Netflix APP\n"
   ]
  },
  {
   "cell_type": "code",
   "execution_count": null,
   "id": "728a6c5c",
   "metadata": {},
   "outputs": [
    {
     "name": "stdout",
     "output_type": "stream",
     "text": [
      "Password and username didnot match\n",
      "1 attempt of 4 \n",
      "Password and username didnot match\n",
      "2 attempt of 4 \n",
      "Password and username didnot match\n",
      "3 attempt of 4 \n",
      "Password and username didnot match\n",
      "4 attempt of 4 \n"
     ]
    }
   ],
   "source": [
    "user_name = input(\"Enter Username : \")\n",
    "user_password = input(\"Enter password :\")\n",
    "\n",
    "for i in range(1,5):\n",
    "    c_user = input(\"Enter your name\")\n",
    "    c_password = input(\"Enter your password\")\n",
    "\n",
    "    if user_name == c_user and user_password == c_password :\n",
    "        print(\"Login Successfu;\")\n",
    "        print(\"Welcome to netflix !\")\n",
    "        movies = [\"Spider-Man\",\"The Matrix\",\"The Dark Knight\"]\n",
    "        \n",
    "    else:\n",
    "        print(\"Password and username didnot match\")\n",
    "        print(f\"{i} attempt of 4 \")\n",
    "\n",
    "\n"
   ]
  }
 ],
 "metadata": {
  "kernelspec": {
   "display_name": "Python 3",
   "language": "python",
   "name": "python3"
  },
  "language_info": {
   "codemirror_mode": {
    "name": "ipython",
    "version": 3
   },
   "file_extension": ".py",
   "mimetype": "text/x-python",
   "name": "python",
   "nbconvert_exporter": "python",
   "pygments_lexer": "ipython3",
   "version": "3.13.5"
  }
 },
 "nbformat": 4,
 "nbformat_minor": 5
}
