{
 "cells": [
  {
   "cell_type": "markdown",
   "id": "e853352d",
   "metadata": {},
   "source": [
    "# Author"
   ]
  },
  {
   "cell_type": "markdown",
   "id": "e6c2a623",
   "metadata": {},
   "source": [
    "## Aditya Gaikwad\n",
    "### MIT WPU MCA FY \n"
   ]
  },
  {
   "cell_type": "markdown",
   "id": "702cdfbe",
   "metadata": {},
   "source": [
    "# Twitter\n"
   ]
  },
  {
   "cell_type": "markdown",
   "id": "f67982d4",
   "metadata": {},
   "source": [
    "## Register"
   ]
  },
  {
   "cell_type": "code",
   "execution_count": 5,
   "id": "b2cf1314",
   "metadata": {},
   "outputs": [
    {
     "name": "stdout",
     "output_type": "stream",
     "text": [
      " Register as a twitter user \n"
     ]
    }
   ],
   "source": [
    "users = {}\n",
    "users[\"SpiderMan\"]=\"1234\"\n",
    "\n",
    "print(\" Register as a twitter user \")\n",
    "user_name = input(\"Enter name\")\n",
    "user_password = input(\"Enter password : \")\n",
    "users[user_name]=[user_password]"
   ]
  },
  {
   "cell_type": "markdown",
   "id": "097b6476",
   "metadata": {},
   "source": [
    "## Log  in"
   ]
  },
  {
   "cell_type": "code",
   "execution_count": null,
   "id": "d505d3e8",
   "metadata": {},
   "outputs": [
    {
     "name": "stdout",
     "output_type": "stream",
     "text": [
      "Log in\n",
      "Login successful !\n"
     ]
    }
   ],
   "source": [
    "print(\"Log in\")\n",
    "for i in range(1,4):\n",
    "    cuser_name = input(\"Enter name\")\n",
    "    cuser_password = input(\"Enter password : \")\n",
    "    if cuser_name == user_name and cuser_password == user_password :\n",
    "        print(\"Login successful !\")\n",
    "        break\n",
    "    else:\n",
    "        print(f\"Login Fail /n {i} attemp of 4 \")"
   ]
  },
  {
   "cell_type": "markdown",
   "id": "d208b880",
   "metadata": {},
   "source": [
    "## Tweet  \n"
   ]
  },
  {
   "cell_type": "code",
   "execution_count": null,
   "id": "445d1c2c",
   "metadata": {},
   "outputs": [
    {
     "name": "stdout",
     "output_type": "stream",
     "text": [
      "logged in as Ad\n",
      "Aditya : HEllo World !\n",
      "Invalid choice Please trys again\n",
      "Posted a Twit\n",
      "Aditya : HEllo World !\n",
      "Ad + posted : aaa\n",
      "\n",
      "Posted a Twit\n",
      "Aditya : HEllo World !\n",
      "Ad + posted : aaa\n",
      "\n",
      "Ad + posted : bbb\n",
      "\n",
      "Aditya : HEllo World !\n",
      "Ad + posted : aaa\n",
      "\n",
      "Ad + posted : bbb\n",
      "\n",
      "Invalid choice Please trys again\n"
     ]
    }
   ],
   "source": [
    "print(f\"logged in as {user_name}\")\n",
    "tweets= []\n",
    "tweets.append(\"Aditya : HEllo World !\")\n",
    "\n",
    "while(True):\n",
    "    \n",
    "    \n",
    "    user_choice = input(\" 1.Twit \\n 2.View Tweets \\n 3.Exit\")\n",
    "    if user_choice == \"1\":\n",
    "        add_tweet = input(\"Write a post : \")\n",
    "        tweets.append(f\"{user_name} : {add_tweet}\\n\")\n",
    "        print(\"Posted a Twit\")\n",
    "    elif user_choice == \"2\":\n",
    "        for tweet in tweets:\n",
    "            tweet = str(tweet)\n",
    "            print(tweet)\n",
    "    elif user_choice == \"3\":\n",
    "        break\n",
    "    else:\n",
    "        print(\"Invalid choice Please trys again\")\n",
    "        "
   ]
  }
 ],
 "metadata": {
  "kernelspec": {
   "display_name": "Python 3",
   "language": "python",
   "name": "python3"
  },
  "language_info": {
   "codemirror_mode": {
    "name": "ipython",
    "version": 3
   },
   "file_extension": ".py",
   "mimetype": "text/x-python",
   "name": "python",
   "nbconvert_exporter": "python",
   "pygments_lexer": "ipython3",
   "version": "3.13.5"
  }
 },
 "nbformat": 4,
 "nbformat_minor": 5
}
